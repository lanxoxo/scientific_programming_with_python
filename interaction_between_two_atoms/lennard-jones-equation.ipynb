{
 "cells": [
  {
   "attachments": {},
   "cell_type": "markdown",
   "id": "71bc318d-7e82-4448-99fd-47191a7724f6",
   "metadata": {},
   "source": [
    "#### Scientific Programming with Python\n",
    "## Lennard-Jones Equation\n",
    "\n",
    "Nowadays in natural sciences, it is conventional for real systems to be \"[...] represented by models formalized as sets of equations, which describes the system behavior to a varying degree of accuracy.\" These systems are also known as *simulations*. [1]\n",
    "\n",
    "In this short paper, we want to perform a calculation of non-bonded potential energy between two argon atoms using given data below. Given that, we want to determine the lowest energy value and its corresponding distance."
   ]
  },
  {
   "cell_type": "code",
   "execution_count": 1,
   "id": "0d41e724-29d7-4e11-9a0d-199c65c79521",
   "metadata": {},
   "outputs": [],
   "source": [
    "epsilon   = 0.0103 # [eV]\n",
    "sigma     = 3.40   # [Å]\n",
    "distance1 = 3.0    # [Å]\n",
    "distance2 = 3.4    # [Å]\n",
    "distance3 = 3.8    # [Å]\n",
    "distance4 = 4.2    # [Å]\n",
    "distance5 = 4.6    # [Å]\n",
    "distance6 = 5.0    # [Å]"
   ]
  },
  {
   "cell_type": "markdown",
   "id": "bd94dd38-ff51-49f3-91d7-e83842a783a7",
   "metadata": {},
   "source": [
    "To accomplish this, we use the Lennard-Jones potential equation, which describes the potential energy of interaction between two non-bonding particles based on their distance of separation and is defined as followed:\n",
    "\n",
    "$$\\Large V_{LJ}(r) = 4\\epsilon \\displaystyle \\left[\\left(\\frac{\\sigma}{r}\\right)^{12} - \\left(\\frac{\\sigma}{r}\\right)^{6}\\right] \\tag{1}$$\n",
    "\n",
    "where\n",
    "- $\\Large V$ stands for the intermolecular potential between two particles\n",
    "- $\\Large \\epsilon$ stands for a measure of the depth of force of attraction between two particles \n",
    "- $\\Large \\sigma$ stands for the distance at which the intermolecular potential between two particles equals zero, meaning it gives a measurement of how close two non-bonding particles can get before the force of repulsion is greater than the force of attraction, resulting in the particles repelling each other; it is also referred to as van-der-Waals radius and is equal to $\\frac{1}{2}$ of the internuclear distance between non-bonding particles\n",
    "- $\\Large r$ stands for the distance of separation between both particles, measured from the center of one particle to another [2]"
   ]
  },
  {
   "cell_type": "markdown",
   "id": "ca33bde1-b07e-4069-8099-f2e826c34f01",
   "metadata": {},
   "source": [
    "In order to provide the final $V_{LJ}(r)$ energy in the requested unit, we first convert the $\\epsilon$ value's unit from electron volt (eV) to Joules. [3]"
   ]
  },
  {
   "cell_type": "code",
   "execution_count": 2,
   "id": "e50f456e-1a5c-4166-986e-b9219a101215",
   "metadata": {},
   "outputs": [],
   "source": [
    "def convert_to_j(value):\n",
    "    '''\n",
    "    converts epsilon value's unit from eV to J (1 eV = 1.602176634 * 10⁻¹⁹ J)\n",
    "    :param value: float, value in eV\n",
    "    :return: float, value in J\n",
    "    '''\n",
    "    return value * 1.602176634 * pow(10, -19)"
   ]
  },
  {
   "cell_type": "code",
   "execution_count": 3,
   "id": "84d4beaa-795e-4e25-bb1c-3a97c6a6eb3e",
   "metadata": {},
   "outputs": [],
   "source": [
    "epsilon = convert_to_j(epsilon)"
   ]
  },
  {
   "cell_type": "markdown",
   "id": "240671e2-537a-440a-bd12-02ebb2b3273f",
   "metadata": {},
   "source": [
    "Afterwards we apply the Lennard-Jones potential equation (1) to the several given values,"
   ]
  },
  {
   "cell_type": "code",
   "execution_count": 4,
   "id": "bb98c508-7443-4430-910c-d8a4cf94e3c9",
   "metadata": {},
   "outputs": [],
   "source": [
    "def lennard_jones(epsilon, sigma, distance):\n",
    "    '''\n",
    "    calculates V using Lennard-Jones potential equation\n",
    "    :param epsilon: float, value in J\n",
    "    :param sigma: float, value in Å\n",
    "    :param distance: float, value in Å\n",
    "    :return: float, value in J\n",
    "    '''\n",
    "    return (4 * epsilon) * (pow((sigma / distance), 12) - pow((sigma / distance), 6))"
   ]
  },
  {
   "cell_type": "markdown",
   "id": "ee624b18-48dd-4c41-8018-8992f67edc62",
   "metadata": {},
   "source": [
    "resulting in different values."
   ]
  },
  {
   "cell_type": "code",
   "execution_count": 5,
   "id": "9809f3ef-6296-44e1-8da7-50671d9dae73",
   "metadata": {},
   "outputs": [
    {
     "data": {
      "text/plain": [
       "(1.5653523415738785e-20,\n",
       " 0.0,\n",
       " -1.6491152810326125e-21,\n",
       " -1.3349087048372307e-21,\n",
       " -9.00808599371665e-22,\n",
       " -5.880980609909882e-22)"
      ]
     },
     "execution_count": 5,
     "metadata": {},
     "output_type": "execute_result"
    }
   ],
   "source": [
    "v1 = lennard_jones(epsilon, sigma, distance1) # V(3.0 Å)\n",
    "v2 = lennard_jones(epsilon, sigma, distance2) # V(3.4 Å)\n",
    "v3 = lennard_jones(epsilon, sigma, distance3) # V(3.8 Å)\n",
    "v4 = lennard_jones(epsilon, sigma, distance4) # V(4.2 Å)\n",
    "v5 = lennard_jones(epsilon, sigma, distance5) # V(4.6 Å)\n",
    "v6 = lennard_jones(epsilon, sigma, distance6) # V(5.0 Å)\n",
    "\n",
    "v1, v2, v3, v4, v5, v6"
   ]
  },
  {
   "cell_type": "markdown",
   "id": "aa37dd5c-b94a-4691-a370-a2fb2d3cdb1d",
   "metadata": {},
   "source": [
    "To determine the lowest energy and its corresponding distance, we use following function,"
   ]
  },
  {
   "cell_type": "code",
   "execution_count": 6,
   "id": "17c4f05a-c1d3-4415-bb53-4bc139e7a10c",
   "metadata": {},
   "outputs": [],
   "source": [
    "def compare_values(values):\n",
    "    '''\n",
    "    compares different values\n",
    "    :param values: float list, values in Å\n",
    "    :return: float, value in Å\n",
    "    '''\n",
    "    sol = 0\n",
    "    i = 0\n",
    "\n",
    "    for n in range(len(values)):\n",
    "        if values[n] < sol:\n",
    "            sol = values[n]\n",
    "            i = n\n",
    "\n",
    "    return sol, i"
   ]
  },
  {
   "cell_type": "markdown",
   "id": "2c249177-912f-434e-801c-27da04d495f8",
   "metadata": {},
   "source": [
    "resulting in"
   ]
  },
  {
   "cell_type": "code",
   "execution_count": 7,
   "id": "d48f1467-a251-451f-a81a-effdbbf1f0c6",
   "metadata": {},
   "outputs": [
    {
     "data": {
      "text/plain": [
       "(-1.6491152810326125e-21, 2)"
      ]
     },
     "execution_count": 7,
     "metadata": {},
     "output_type": "execute_result"
    }
   ],
   "source": [
    "lowest, index = compare_values([v1, v2, v3, v4, v5, v6])\n",
    "\n",
    "lowest, index"
   ]
  },
  {
   "cell_type": "markdown",
   "id": "15de0ea3-3ebd-4735-9114-e83ee1308e71",
   "metadata": {},
   "source": [
    "for the lowest energy value and corresponding distance (3.8 Å)."
   ]
  },
  {
   "cell_type": "markdown",
   "id": "651b17d8-5a51-45ce-8b3c-6b5f38361b22",
   "metadata": {},
   "source": [
    "To display this value with the correct amount of significant figures [4], we round the current value to its first decimal number resulting in"
   ]
  },
  {
   "cell_type": "code",
   "execution_count": 8,
   "id": "0dd31279-0f91-4696-9e8c-24ec2e62797e",
   "metadata": {},
   "outputs": [
    {
     "name": "stdout",
     "output_type": "stream",
     "text": [
      "-1.65e-21 J\n"
     ]
    }
   ],
   "source": [
    "lowest = round(lowest * pow(10, 21), 2)\n",
    "\n",
    "print(f\"{lowest}e-21 J\")"
   ]
  },
  {
   "cell_type": "markdown",
   "id": "810a1418-012d-4d68-abab-918bb0378935",
   "metadata": {},
   "source": [
    "as lowest energy value of the given distances in J."
   ]
  },
  {
   "cell_type": "markdown",
   "id": "428bb165-e6f4-4275-8cf0-13bdc1e3d903",
   "metadata": {},
   "source": [
    "### References\n",
    "\n",
    "[1] I. NEZBEDA, J. JIRSÁK, F. MOUČKA: **Molecular modeling and simulations** in *Electrospun Nanofibers* (2017), pp. 255.\n",
    "\n",
    "[2] CHEMISTRY LIBRETEXTS: **Lennard-Jones Potential**, https://chem.libretexts.org/Bookshelves/Physical_and_Theoretical_Chemistry_Textbook_Maps/Supplemental_Modules_(Physical_and_Theoretical_Chemistry)/Physical_Properties_of_Matter/Atomic_and_Molecular_Properties/Intermolecular_Forces/Specific_Interactions/Lennard-Jones_Potential, Accessed on October 3rd, 2023.\n",
    "\n",
    "[3] WIKIPEDIA: **Elektronenvolt**, https://de.wikipedia.org/wiki/Elektronenvolt, Accessed on Oktober 25th 2023.\n",
    "\n",
    "[4] KARL N. KIRSCHNER: **Significant Fugres**, https://colab.research.google.com/github/karlkirschner/2020_Scientific_Programming/blob/master/significant_figures.ipynb, Accessed on October 25th 2023."
   ]
  }
 ],
 "metadata": {
  "kernelspec": {
   "display_name": "Python 3 (ipykernel)",
   "language": "python",
   "name": "python3"
  },
  "language_info": {
   "codemirror_mode": {
    "name": "ipython",
    "version": 3
   },
   "file_extension": ".py",
   "mimetype": "text/x-python",
   "name": "python",
   "nbconvert_exporter": "python",
   "pygments_lexer": "ipython3",
   "version": "3.11.8"
  }
 },
 "nbformat": 4,
 "nbformat_minor": 5
}
