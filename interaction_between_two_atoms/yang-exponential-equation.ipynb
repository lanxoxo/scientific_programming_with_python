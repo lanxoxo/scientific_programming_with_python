{
 "cells": [
  {
   "attachments": {},
   "cell_type": "markdown",
   "id": "c0431143-79fb-4198-9a12-be5379527174",
   "metadata": {},
   "source": [
    "#### Scientific Programming with Python\n",
    "## Yang Exponential Equation\n",
    "\n",
    "Nowadays in natural sciences, it is conventional for real systems to be \"[...] represented by models formalized as sets of equations, which describes the system behavior to a varying degree of accuracy.\" These systems are also known as *simulations*. [1] The simplest classical-physics model for this purpose is the Lennard-Jones potential equation [2], which describes the potential energy of interaction between two non-bonding particles based on their distance of separation and is defined as followed:\n",
    "\n",
    "$$\\Large V_{LJ}(r) = 4\\epsilon \\displaystyle \\left[\\left(\\frac{\\sigma}{r}\\right)^{12} - \\left(\\frac{\\sigma}{r}\\right)^{6}\\right] \\tag{1}$$\n",
    "\n",
    "Lately, a solid model, derived by Yang et al., is an exponential equation [3] defined as followed:\n",
    "\n",
    "$$\\Large V_{Exp}(r) = \\epsilon \\displaystyle \\left[e^{\\alpha \\left(1 - \\frac{r}{\\sigma}\\right)} - \\left(\\left(\\frac{r}{\\sigma}\\right)^{4} - 2 \\left(\\frac{r}{\\sigma}\\right)^{2} + 3\\right)e^{\\left(\\frac{\\alpha}{2}\\right)\\left(1 - \\frac{r}{\\sigma}\\right)}\\right] \\tag{2}$$\n",
    "\n",
    "In both equations\n",
    "- $\\Large V$ stands for the intermolecular potential between two particles given in $eV$\n",
    "- $\\Large \\epsilon$ stands for a measure of the depth of force of attraction between two particles given in $eV$\n",
    "- $\\Large \\sigma$ stands for the distance at which the intermolecular potential between two particles equals zero, meaning it gives a measurement of how close two non-bonding particles can get before the force of repulsion is greater than the force of attraction, resulting in the particles repelling each other, given in $Ångstrom$; it is also referred to as van-der-Waals radius and is equal to $\\frac{1}{2}$ of the internuclear distance between non-bonding particles\n",
    "- $\\Large r$ stands for the distance of separation between both particles, measured from the center of one particle to another [3,4]\n",
    "\n",
    "In equation $2$\n",
    "- $\\Large \\alpha$ stands for a weighing factor, which controls the exponential terms' influences [3]\n",
    "\n",
    "Additionally, supplementary information is provided for equation $2$, giving suggestions for the parameters used for $Ar_{2}$ shown in the following table:\n",
    "\n",
    "|$Species$|$\\epsilon (kJ/mol)$|$\\sigma (Å)$|$\\alpha$ |\n",
    "|:---:|:---:|:---:|:---:|\n",
    "|$Ar_{2}$| 1.178 | 3.75 | 13.18 |"
   ]
  },
  {
   "cell_type": "code",
   "execution_count": 1,
   "id": "55360b24-c39a-48bc-bf3e-e215774bf38a",
   "metadata": {},
   "outputs": [],
   "source": [
    "import pandas as pd\n",
    "import math"
   ]
  },
  {
   "cell_type": "code",
   "execution_count": 2,
   "id": "d71a2fc5-8291-47d4-b089-68e0e469fb24",
   "metadata": {},
   "outputs": [],
   "source": [
    "epsilon = 1.178 # in kJ/mol\n",
    "sigma   = 3.75  # in Ångstrom\n",
    "alpha   = 13.18"
   ]
  },
  {
   "cell_type": "markdown",
   "id": "63339d32-2d2b-438a-adc0-5a3cdadf9420",
   "metadata": {},
   "source": [
    "Using Cybulski and Toczyłowski's accurate quantum mechanics calculations as benchmark target data, which determines $V(r)$ in Hartree at different distances for $Ar_{2}$, we can compare both equations."
   ]
  },
  {
   "attachments": {},
   "cell_type": "markdown",
   "id": "f52c0238-d29f-4696-8808-23dc46af9a7b",
   "metadata": {},
   "source": [
    "### Quantum Mechanics target data\n",
    "\n",
    "First we need to import the benchmark target data we mentioned before. We do this by using the $pandas$ library and its built-in functions."
   ]
  },
  {
   "cell_type": "code",
   "execution_count": 3,
   "id": "d25a2493-8383-4eea-afc2-fedd861a419d",
   "metadata": {},
   "outputs": [],
   "source": [
    "# read_csv() reads .csv file with semicolon as separator\n",
    "data = pd.read_csv('CybulskiT1999_Ar2.csv', sep=';')"
   ]
  },
  {
   "cell_type": "markdown",
   "id": "a6b0eb36-6001-4176-82cd-386b2471b262",
   "metadata": {},
   "source": [
    "Now we need to clean the benchmark data by removing rows with duplicated and missing data."
   ]
  },
  {
   "cell_type": "code",
   "execution_count": 4,
   "id": "495f87a6-3b95-4ebb-9138-ebacdca15915",
   "metadata": {},
   "outputs": [],
   "source": [
    "# notnull() removes all rows with missing data (V(r) == None)\n",
    "# drop_duplicates() removes all duplicated rows\n",
    "data = data[data['V(r) (Hartree)'].notnull()].drop_duplicates(subset=['R (Å)'], keep='first')"
   ]
  },
  {
   "cell_type": "markdown",
   "id": "e10668fa-558e-409c-9329-122876cded23",
   "metadata": {},
   "source": [
    "After cleaning our benchmark data, we want to insert a column containing the converted values of $V(r)$ in $E_{h}$ to $kJ/mol$. [5]"
   ]
  },
  {
   "cell_type": "code",
   "execution_count": 5,
   "id": "f570fb1f-5b9f-45ba-a1ca-935da18be69f",
   "metadata": {},
   "outputs": [],
   "source": [
    "def convert_hartree_to_kJ_mol(value):\n",
    "    '''\n",
    "    converts V(r) value's unit from Hartree to kJ/mol (E_h = 2625.4996394799 kJ/mol)\n",
    "    :param value: float, value in Hartree\n",
    "    :return:      float, value in kJ/mol\n",
    "    '''\n",
    "    return value * 2625.4996394799"
   ]
  },
  {
   "cell_type": "code",
   "execution_count": 6,
   "id": "051e8625-d7ac-4bf9-b4ea-020ddc3b0e95",
   "metadata": {},
   "outputs": [],
   "source": [
    "data['V_CT(r) (kJ/mol)'] = [convert_hartree_to_kJ_mol(x) for x in data['V(r) (Hartree)']]"
   ]
  },
  {
   "cell_type": "markdown",
   "id": "3ec4d1ec-60ab-4f34-8e00-1ccae19bc7ea",
   "metadata": {},
   "source": [
    "This gives us the following table."
   ]
  },
  {
   "cell_type": "code",
   "execution_count": 7,
   "id": "db3d396d-801a-49cc-885a-924f6d2df810",
   "metadata": {},
   "outputs": [
    {
     "data": {
      "text/html": [
       "<div>\n",
       "<style scoped>\n",
       "    .dataframe tbody tr th:only-of-type {\n",
       "        vertical-align: middle;\n",
       "    }\n",
       "\n",
       "    .dataframe tbody tr th {\n",
       "        vertical-align: top;\n",
       "    }\n",
       "\n",
       "    .dataframe thead th {\n",
       "        text-align: right;\n",
       "    }\n",
       "</style>\n",
       "<table border=\"1\" class=\"dataframe\">\n",
       "  <thead>\n",
       "    <tr style=\"text-align: right;\">\n",
       "      <th></th>\n",
       "      <th>R (Å)</th>\n",
       "      <th>V(r) (Hartree)</th>\n",
       "      <th>V_CT(r) (kJ/mol)</th>\n",
       "    </tr>\n",
       "  </thead>\n",
       "  <tbody>\n",
       "    <tr>\n",
       "      <th>0</th>\n",
       "      <td>3.000</td>\n",
       "      <td>0.003055</td>\n",
       "      <td>8.020849</td>\n",
       "    </tr>\n",
       "    <tr>\n",
       "      <th>1</th>\n",
       "      <td>3.250</td>\n",
       "      <td>0.000518</td>\n",
       "      <td>1.360298</td>\n",
       "    </tr>\n",
       "    <tr>\n",
       "      <th>2</th>\n",
       "      <td>3.500</td>\n",
       "      <td>-0.000279</td>\n",
       "      <td>-0.732462</td>\n",
       "    </tr>\n",
       "    <tr>\n",
       "      <th>5</th>\n",
       "      <td>3.750</td>\n",
       "      <td>-0.000441</td>\n",
       "      <td>-1.157373</td>\n",
       "    </tr>\n",
       "    <tr>\n",
       "      <th>6</th>\n",
       "      <td>3.775</td>\n",
       "      <td>-0.000442</td>\n",
       "      <td>-1.160130</td>\n",
       "    </tr>\n",
       "    <tr>\n",
       "      <th>7</th>\n",
       "      <td>3.800</td>\n",
       "      <td>-0.000441</td>\n",
       "      <td>-1.158686</td>\n",
       "    </tr>\n",
       "    <tr>\n",
       "      <th>8</th>\n",
       "      <td>3.850</td>\n",
       "      <td>-0.000436</td>\n",
       "      <td>-1.145269</td>\n",
       "    </tr>\n",
       "    <tr>\n",
       "      <th>10</th>\n",
       "      <td>4.000</td>\n",
       "      <td>-0.000400</td>\n",
       "      <td>-1.049150</td>\n",
       "    </tr>\n",
       "    <tr>\n",
       "      <th>11</th>\n",
       "      <td>4.250</td>\n",
       "      <td>-0.000313</td>\n",
       "      <td>-0.822096</td>\n",
       "    </tr>\n",
       "    <tr>\n",
       "      <th>12</th>\n",
       "      <td>4.500</td>\n",
       "      <td>-0.000232</td>\n",
       "      <td>-0.609904</td>\n",
       "    </tr>\n",
       "    <tr>\n",
       "      <th>13</th>\n",
       "      <td>5.000</td>\n",
       "      <td>-0.000123</td>\n",
       "      <td>-0.322831</td>\n",
       "    </tr>\n",
       "    <tr>\n",
       "      <th>15</th>\n",
       "      <td>6.000</td>\n",
       "      <td>-0.000038</td>\n",
       "      <td>-0.099165</td>\n",
       "    </tr>\n",
       "    <tr>\n",
       "      <th>16</th>\n",
       "      <td>7.000</td>\n",
       "      <td>-0.000014</td>\n",
       "      <td>-0.036836</td>\n",
       "    </tr>\n",
       "  </tbody>\n",
       "</table>\n",
       "</div>"
      ],
      "text/plain": [
       "    R (Å)  V(r) (Hartree)  V_CT(r) (kJ/mol)\n",
       "0   3.000        0.003055          8.020849\n",
       "1   3.250        0.000518          1.360298\n",
       "2   3.500       -0.000279         -0.732462\n",
       "5   3.750       -0.000441         -1.157373\n",
       "6   3.775       -0.000442         -1.160130\n",
       "7   3.800       -0.000441         -1.158686\n",
       "8   3.850       -0.000436         -1.145269\n",
       "10  4.000       -0.000400         -1.049150\n",
       "11  4.250       -0.000313         -0.822096\n",
       "12  4.500       -0.000232         -0.609904\n",
       "13  5.000       -0.000123         -0.322831\n",
       "15  6.000       -0.000038         -0.099165\n",
       "16  7.000       -0.000014         -0.036836"
      ]
     },
     "execution_count": 7,
     "metadata": {},
     "output_type": "execute_result"
    }
   ],
   "source": [
    "data"
   ]
  },
  {
   "attachments": {},
   "cell_type": "markdown",
   "id": "f0a04682-4634-4dce-a5ec-6cd02f763b92",
   "metadata": {},
   "source": [
    "### Computing values using both equations\n",
    "\n",
    "Now we want to calculate $V_{r}$ for all distances $R$ available in our table using both the Lennard-Jones potential equation (1) and the Yang exponential equation (2). For both equations, we use the values mentioned in the introduction."
   ]
  },
  {
   "cell_type": "code",
   "execution_count": 8,
   "id": "bb98c508-7443-4430-910c-d8a4cf94e3c9",
   "metadata": {},
   "outputs": [],
   "source": [
    "def lennard_jones(epsilon, sigma, distance):\n",
    "    '''\n",
    "    calculates V(r) using Lennard-Jones potential equation\n",
    "    calculation is divided in two parts to avoid too long lines\n",
    "    :param epsilon:  float, value in kJ/mol\n",
    "    :param sigma:    float, value in Å\n",
    "    :param distance: float, value in Å\n",
    "    :return:         float, value in J\n",
    "    '''\n",
    "    part_1 = 4 * epsilon\n",
    "    part_2 = pow((sigma / distance), 12) - pow((sigma / distance), 6)\n",
    "    return part_1 * part_2"
   ]
  },
  {
   "cell_type": "code",
   "execution_count": 9,
   "id": "8678d9fc-5a1e-467a-8c24-2bcc6f4c8787",
   "metadata": {},
   "outputs": [],
   "source": [
    "def yang_exp(alpha, epsilon, sigma, distance):\n",
    "    '''\n",
    "    calculates V(r) using Yang expontential equation\n",
    "    calculation is divided in three parts to avoid too long lines\n",
    "    :param alpha:    float, no units\n",
    "    :param epsilon:  float, value in kJ/mol\n",
    "    :param sigma:    float, value in Å\n",
    "    :param distance: float, value in Å\n",
    "    :return:         float, value in kJ/mol\n",
    "    '''\n",
    "    part_1 = math.exp(alpha * (1 - (distance / sigma)))\n",
    "    part_2 = pow((sigma / distance), 4) - 2 * pow((distance / sigma), 2) + 3\n",
    "    part_3 = math.exp((alpha / 2) * (1 - (distance / sigma)))\n",
    "    return epsilon * (part_1 - part_2 * part_3)"
   ]
  },
  {
   "cell_type": "code",
   "execution_count": 10,
   "id": "6621c4b8-c00e-4584-8b68-cda666755e60",
   "metadata": {},
   "outputs": [],
   "source": [
    "data['V_LJ(r) (kJ/mol)'] = [lennard_jones(epsilon, sigma, x) for x in data['R (Å)']]"
   ]
  },
  {
   "cell_type": "code",
   "execution_count": 11,
   "id": "35b44e71-c567-4c22-8a61-9b5c16fa9082",
   "metadata": {},
   "outputs": [],
   "source": [
    "data['V_Exp(r) (kJ/mol)'] = [yang_exp(alpha, epsilon, sigma, x) for x in data['R (Å)']]"
   ]
  },
  {
   "cell_type": "markdown",
   "id": "84de6426-fbc8-4299-bcb2-89e5ce7d6373",
   "metadata": {},
   "source": [
    "After adding our calculated values, our current dataframe should look like this."
   ]
  },
  {
   "cell_type": "code",
   "execution_count": 12,
   "id": "0bc20729-e099-4b13-8d2f-2c71f1226836",
   "metadata": {},
   "outputs": [
    {
     "data": {
      "text/html": [
       "<div>\n",
       "<style scoped>\n",
       "    .dataframe tbody tr th:only-of-type {\n",
       "        vertical-align: middle;\n",
       "    }\n",
       "\n",
       "    .dataframe tbody tr th {\n",
       "        vertical-align: top;\n",
       "    }\n",
       "\n",
       "    .dataframe thead th {\n",
       "        text-align: right;\n",
       "    }\n",
       "</style>\n",
       "<table border=\"1\" class=\"dataframe\">\n",
       "  <thead>\n",
       "    <tr style=\"text-align: right;\">\n",
       "      <th></th>\n",
       "      <th>R (Å)</th>\n",
       "      <th>V(r) (Hartree)</th>\n",
       "      <th>V_CT(r) (kJ/mol)</th>\n",
       "      <th>V_LJ(r) (kJ/mol)</th>\n",
       "      <th>V_Exp(r) (kJ/mol)</th>\n",
       "    </tr>\n",
       "  </thead>\n",
       "  <tbody>\n",
       "    <tr>\n",
       "      <th>0</th>\n",
       "      <td>3.000</td>\n",
       "      <td>0.003055</td>\n",
       "      <td>8.020849</td>\n",
       "      <td>50.593771</td>\n",
       "      <td>-1.872442</td>\n",
       "    </tr>\n",
       "    <tr>\n",
       "      <th>1</th>\n",
       "      <td>3.250</td>\n",
       "      <td>0.000518</td>\n",
       "      <td>1.360298</td>\n",
       "      <td>15.121296</td>\n",
       "      <td>-2.446589</td>\n",
       "    </tr>\n",
       "    <tr>\n",
       "      <th>2</th>\n",
       "      <td>3.500</td>\n",
       "      <td>-0.000279</td>\n",
       "      <td>-0.732462</td>\n",
       "      <td>3.655327</td>\n",
       "      <td>-1.871585</td>\n",
       "    </tr>\n",
       "    <tr>\n",
       "      <th>5</th>\n",
       "      <td>3.750</td>\n",
       "      <td>-0.000441</td>\n",
       "      <td>-1.157373</td>\n",
       "      <td>0.000000</td>\n",
       "      <td>-1.178000</td>\n",
       "    </tr>\n",
       "    <tr>\n",
       "      <th>6</th>\n",
       "      <td>3.775</td>\n",
       "      <td>-0.000442</td>\n",
       "      <td>-1.160130</td>\n",
       "      <td>-0.176962</td>\n",
       "      <td>-1.116092</td>\n",
       "    </tr>\n",
       "    <tr>\n",
       "      <th>7</th>\n",
       "      <td>3.800</td>\n",
       "      <td>-0.000441</td>\n",
       "      <td>-1.158686</td>\n",
       "      <td>-0.332475</td>\n",
       "      <td>-1.056066</td>\n",
       "    </tr>\n",
       "    <tr>\n",
       "      <th>8</th>\n",
       "      <td>3.850</td>\n",
       "      <td>-0.000436</td>\n",
       "      <td>-1.145269</td>\n",
       "      <td>-0.587738</td>\n",
       "      <td>-0.941862</td>\n",
       "    </tr>\n",
       "    <tr>\n",
       "      <th>10</th>\n",
       "      <td>4.000</td>\n",
       "      <td>-0.000400</td>\n",
       "      <td>-1.049150</td>\n",
       "      <td>-1.027134</td>\n",
       "      <td>-0.647167</td>\n",
       "    </tr>\n",
       "    <tr>\n",
       "      <th>11</th>\n",
       "      <td>4.250</td>\n",
       "      <td>-0.000313</td>\n",
       "      <td>-0.822096</td>\n",
       "      <td>-1.174281</td>\n",
       "      <td>-0.304279</td>\n",
       "    </tr>\n",
       "    <tr>\n",
       "      <th>12</th>\n",
       "      <td>4.500</td>\n",
       "      <td>-0.000232</td>\n",
       "      <td>-0.609904</td>\n",
       "      <td>-1.049557</td>\n",
       "      <td>-0.105499</td>\n",
       "    </tr>\n",
       "    <tr>\n",
       "      <th>13</th>\n",
       "      <td>5.000</td>\n",
       "      <td>-0.000123</td>\n",
       "      <td>-0.322831</td>\n",
       "      <td>-0.689376</td>\n",
       "      <td>0.045879</td>\n",
       "    </tr>\n",
       "    <tr>\n",
       "      <th>15</th>\n",
       "      <td>6.000</td>\n",
       "      <td>-0.000038</td>\n",
       "      <td>-0.099165</td>\n",
       "      <td>-0.264117</td>\n",
       "      <td>0.044880</td>\n",
       "    </tr>\n",
       "    <tr>\n",
       "      <th>16</th>\n",
       "      <td>7.000</td>\n",
       "      <td>-0.000014</td>\n",
       "      <td>-0.036836</td>\n",
       "      <td>-0.108747</td>\n",
       "      <td>0.015159</td>\n",
       "    </tr>\n",
       "  </tbody>\n",
       "</table>\n",
       "</div>"
      ],
      "text/plain": [
       "    R (Å)  V(r) (Hartree)  V_CT(r) (kJ/mol)  V_LJ(r) (kJ/mol)  \\\n",
       "0   3.000        0.003055          8.020849         50.593771   \n",
       "1   3.250        0.000518          1.360298         15.121296   \n",
       "2   3.500       -0.000279         -0.732462          3.655327   \n",
       "5   3.750       -0.000441         -1.157373          0.000000   \n",
       "6   3.775       -0.000442         -1.160130         -0.176962   \n",
       "7   3.800       -0.000441         -1.158686         -0.332475   \n",
       "8   3.850       -0.000436         -1.145269         -0.587738   \n",
       "10  4.000       -0.000400         -1.049150         -1.027134   \n",
       "11  4.250       -0.000313         -0.822096         -1.174281   \n",
       "12  4.500       -0.000232         -0.609904         -1.049557   \n",
       "13  5.000       -0.000123         -0.322831         -0.689376   \n",
       "15  6.000       -0.000038         -0.099165         -0.264117   \n",
       "16  7.000       -0.000014         -0.036836         -0.108747   \n",
       "\n",
       "    V_Exp(r) (kJ/mol)  \n",
       "0           -1.872442  \n",
       "1           -2.446589  \n",
       "2           -1.871585  \n",
       "5           -1.178000  \n",
       "6           -1.116092  \n",
       "7           -1.056066  \n",
       "8           -0.941862  \n",
       "10          -0.647167  \n",
       "11          -0.304279  \n",
       "12          -0.105499  \n",
       "13           0.045879  \n",
       "15           0.044880  \n",
       "16           0.015159  "
      ]
     },
     "execution_count": 12,
     "metadata": {},
     "output_type": "execute_result"
    }
   ],
   "source": [
    "data"
   ]
  },
  {
   "cell_type": "markdown",
   "id": "e5dc063a-698a-46ba-8ee8-786cc4696ea3",
   "metadata": {},
   "source": [
    "### Plotting data"
   ]
  },
  {
   "cell_type": "markdown",
   "id": "fc2a04d7-7197-430d-b573-3ec26ef5a30f",
   "metadata": {},
   "source": [
    "To visualise our calculated data, we can plot our dataframe using different line colours."
   ]
  },
  {
   "cell_type": "code",
   "execution_count": 13,
   "id": "2baf3d25-b9d4-4132-8fa1-a9c9b815c208",
   "metadata": {},
   "outputs": [
    {
     "data": {
      "text/plain": [
       "<AxesSubplot: xlabel='R (Å)', ylabel='V(r) (kJ/mol)'>"
      ]
     },
     "execution_count": 13,
     "metadata": {},
     "output_type": "execute_result"
    },
    {
     "data": {
      "image/png": "[encoded data removed]",
      "text/plain": [
       "<Figure size 640x480 with 1 Axes>"
      ]
     },
     "metadata": {},
     "output_type": "display_data"
    }
   ],
   "source": [
    "data.iloc[:,[2, 3, 4]].plot(xlabel='R (Å)', ylabel='V(r) (kJ/mol)', marker='.', markeredgecolor='white')"
   ]
  },
  {
   "cell_type": "markdown",
   "id": "df8a6ac4-ae9b-4d80-8672-8fd46b3686ac",
   "metadata": {},
   "source": [
    "### Saving data to a CSV-formatted file\n",
    "\n",
    "Lastly, we want to save our newly calculated data into a CSV-formatted file for further use."
   ]
  },
  {
   "cell_type": "code",
   "execution_count": 14,
   "id": "2d64dddf-9f48-4ec2-b5e4-362218113398",
   "metadata": {},
   "outputs": [],
   "source": [
    "data.to_csv('CybulskiT1999_Ar2_new.csv', sep=';')"
   ]
  },
  {
   "cell_type": "markdown",
   "id": "428bb165-e6f4-4275-8cf0-13bdc1e3d903",
   "metadata": {},
   "source": [
    "### References\n",
    "\n",
    "[1] I. NEZBEDA, J. JIRSÁK, F. MOUČKA: **Molecular modeling and simulations** in *Electrospun Nanofibers* (2017), 255.\n",
    "\n",
    "[2] WIKIPEDIA CONTRIBUTORS: **Lenard-Jones potential**, Wikimedia Foundation, Last modified on August 30th, 2023. https://en.wikipedia.org/wiki/Lennard-Jones_potential, Accessed on November 20th, 2023.\n",
    "\n",
    "[3] L. YANG, L. SUN, W.-Q. DENG: **van der Waals Function for Molecular Mechanics** in J. Phys. Chem. A (2020), 124, 2102-2107.\n",
    "\n",
    "[4] CHEMISTRY LIBRETEXTS: **Lennard-Jones Potential**, https://chem.libretexts.org/Bookshelves/Physical_and_Theoretical_Chemistry_Textbook_Maps/Supplemental_Modules_(Physical_and_Theoretical_Chemistry)/Physical_Properties_of_Matter/Atomic_and_Molecular_Properties/Intermolecular_Forces/Specific_Interactions/Lennard-Jones_Potential, Accessed on November 20th, 2023.\n",
    "\n",
    "[5] WIKIPEDIA CONTRIBUTORS: **Hartree**, Wikimedia Foundation, Last modified on July 24th, 2022. https://en.wikipedia.org/wiki/Hartree, Accessed on November 20th, 2023."
   ]
  }
 ],
 "metadata": {
  "kernelspec": {
   "display_name": "Python 3 (ipykernel)",
   "language": "python",
   "name": "python3"
  },
  "language_info": {
   "codemirror_mode": {
    "name": "ipython",
    "version": 3
   },
   "file_extension": ".py",
   "mimetype": "text/x-python",
   "name": "python",
   "nbconvert_exporter": "python",
   "pygments_lexer": "ipython3",
   "version": "3.11.8"
  }
 },
 "nbformat": 4,
 "nbformat_minor": 5
}
